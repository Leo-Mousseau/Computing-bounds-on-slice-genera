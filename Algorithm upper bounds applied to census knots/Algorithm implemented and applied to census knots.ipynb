{
 "cells": [
  {
   "cell_type": "code",
   "execution_count": 481,
   "metadata": {},
   "outputs": [],
   "source": [
    "import snappy\n",
    "import ast\n",
    "import csv\n",
    "import pickle\n",
    "from ast import literal_eval"
   ]
  },
  {
   "cell_type": "markdown",
   "metadata": {},
   "source": [
    "Let's implement functions which change a pd-code by a crossing change, and recognize the sign of a crossing:"
   ]
  },
  {
   "cell_type": "code",
   "execution_count": 482,
   "metadata": {},
   "outputs": [],
   "source": [
    "def cc(pd2,i):\n",
    "    '''\n",
    "    changes the ith crossing\n",
    "    '''\n",
    "    pd=pd2.copy()\n",
    "    if pos_crossing(pd,i):\n",
    "        [a,b,c,d]=pd[i]\n",
    "        pd[i]=[d,a,b,c]\n",
    "    else:\n",
    "        [a,b,c,d]=pd[i]\n",
    "        pd[i]=[b,c,d,a]\n",
    "    return(pd)\n",
    "\n",
    "def pos_crossing(pd,i):\n",
    "    '''\n",
    "    True if the i-th crossing is positive, False else\n",
    "    '''\n",
    "    n=max([max(k) for k in pd])\n",
    "    (a,b,c,d)=pd[i]\n",
    "    if d==n:\n",
    "        if b==0:\n",
    "            return(True)\n",
    "    if b==n:\n",
    "        if d==0:\n",
    "            return(False)\n",
    "    if d<b:\n",
    "        return(True)\n",
    "    return(False)"
   ]
  },
  {
   "cell_type": "markdown",
   "metadata": {},
   "source": [
    "Lets implement functions which take a pd code and return a list of pd codes corresponding to: \n",
    "1) all the diagrams obtained by changing a crossing\n",
    "\n",
    "2) all diagrams obtained by changing a positive and a negative crossing"
   ]
  },
  {
   "cell_type": "code",
   "execution_count": 483,
   "metadata": {},
   "outputs": [],
   "source": [
    "def crossing_changer(pd):\n",
    "    '''\n",
    "    input: A pd-code\n",
    "    output: list of pd codes corresponding crossing changes in pd\n",
    "    '''\n",
    "    l=[]\n",
    "    for i in range(len(pd)):\n",
    "        new_pd=cc(pd,i)\n",
    "        l.append([new_pd,[i,'cc']])\n",
    "    return(l)\n",
    "\n",
    "\n",
    "def two_crossing_changer(pd):\n",
    "    '''\n",
    "    input: pd code\n",
    "    output: returns list of pd codes corresponding to changement of a positive and a negative crossing\n",
    "    '''\n",
    "    l=[]\n",
    "    for i in range(len(pd)):\n",
    "        if pos_crossing(pd,i):\n",
    "            for j in range(len(pd)):\n",
    "                if not pos_crossing(pd,j) and i!=j:\n",
    "                    l.append([cc(cc(pd,i),j),[(i,j),'cc+-']])\n",
    "    return(l)"
   ]
  },
  {
   "cell_type": "markdown",
   "metadata": {},
   "source": [
    "Lets get the knotinfo data of the slice genera of prime knots with less than 13 crossings"
   ]
  },
  {
   "cell_type": "code",
   "execution_count": 484,
   "metadata": {},
   "outputs": [],
   "source": [
    "name_slice_knotinfo=[]\n",
    "with open('/Users/leomousseau/Desktop/Bachelor code census/slice_knotinfo','r') as inp:\n",
    "    reader=csv.reader(inp)\n",
    "    for row in reader:\n",
    "        name_slice_knotinfo.append([row[0],int(row[1])])\n",
    "slice_genus_knotinfo=dict(name_slice_knotinfo)\n",
    "        \n",
    "name_top_knotinfo=[]\n",
    "with open('/Users/leomousseau/Desktop/Bachelor code census/top_knotinfo','r') as inp:\n",
    "    reader=csv.reader(inp)\n",
    "    for row in reader:\n",
    "        try:\n",
    "            name_top_knotinfo.append([row[0],int(row[1])])\n",
    "        except:\n",
    "            name_top_knotinfo.append([row[0],2]) # those are all (1,2) and we bound them by 2 from above for our purposes later\n",
    "topological_genus_knotinfo=dict(name_top_knotinfo)"
   ]
  },
  {
   "cell_type": "markdown",
   "metadata": {},
   "source": [
    "Lets implement a function obtaining the prime factors from a given knot"
   ]
  },
  {
   "cell_type": "code",
   "execution_count": 485,
   "metadata": {},
   "outputs": [],
   "source": [
    "def prime_decomposition(K,decomp=[]):\n",
    "    '''\n",
    "    input: a Knot K\n",
    "    output: a list of knots corresponding to the prime factors of K\n",
    "    '''\n",
    "    \n",
    "    \n",
    "    # doesnt work perfectly since the implemented function deconnect sum is not perfec\n",
    "    deconnect=K.deconnect_sum()\n",
    "    if len(deconnect)==1: #i.e. K is prime\n",
    "        decomp.append(K)\n",
    "        return(decomp)\n",
    " \n",
    "    for L in deconnect:\n",
    "        decomp=decomp+prime_decomposition(L,[])\n",
    "    \n",
    "    return(decomp)"
   ]
  },
  {
   "cell_type": "markdown",
   "metadata": {},
   "source": [
    "Since SnapPy does not recognize some torus knots, we implement a function which does determine if a given diagram represents a torus knot, and if it does, it returns its coefficients (p,q)"
   ]
  },
  {
   "cell_type": "code",
   "execution_count": 486,
   "metadata": {},
   "outputs": [],
   "source": [
    "def identify_torus(pd):\n",
    "    '''\n",
    "    input: a knot\n",
    "    output: if the output is (p,q), then the knot is the p,q torus knot. If the return is false, then it is not\n",
    "    '''\n",
    "    K=snappy.Link(pd)\n",
    "    if len(K.deconnect_sum())!=1:\n",
    "        return(['False','non-prime!'])\n",
    "    # therefore K is prime, and determined by its knot group (by rigidity)\n",
    "    g=K.exterior().fundamental_group()\n",
    "    #print(g)\n",
    "    if g.generators()==['a', 'b']:\n",
    "        if len(g.relators())==1:\n",
    "            word=g.relators()[0]\n",
    "            counter=0\n",
    "            for i in range(len(word)):\n",
    "                if word[i]=='a' or word[i]=='A':\n",
    "                    if i!=len(word)-1:\n",
    "                        if word[i+1]=='b' or word[i+1]=='B':\n",
    "                            counter=counter+1\n",
    "            if counter==1: #its torus\n",
    "                p=word.count('a')\n",
    "                q=word.count('b')\n",
    "                return(['True',(p,q)])\n",
    "            \n",
    "            if counter!=1:\n",
    "                return(['False','relator word not right'])\n",
    "        else:\n",
    "            return(['False','relator'])\n",
    "    else:\n",
    "        return(['False','generators'])\n",
    "\n"
   ]
  },
  {
   "cell_type": "markdown",
   "metadata": {},
   "source": [
    "Lets implement a function which can identify a low crossing knot and return bounds on its slice genera"
   ]
  },
  {
   "cell_type": "code",
   "execution_count": 487,
   "metadata": {},
   "outputs": [],
   "source": [
    "def low_crossing_genus(pd):\n",
    "    '''\n",
    "    input: pd code\n",
    "    output: bound on both slice genera\n",
    "    '''\n",
    "    K=snappy.Link(pd)\n",
    "    M=K.exterior()\n",
    "    if len(M.fundamental_group().generators())==1 and M.fundamental_group().relators()==[]:\n",
    "        return((0,0))\n",
    "    name='undefined'\n",
    "    m=0\n",
    "    if name=='undefined' and m<100:\n",
    "        if M.identify()==[]:\n",
    "            M.randomize()\n",
    "        else:\n",
    "            name=M.identify()[0].name()\n",
    "        m=m+1\n",
    "    if name!='undefined':\n",
    "        slice_genus=slice_genus_knotinfo[name]\n",
    "        topological_genus=topological_genus_knotinfo[name]\n",
    "        slice_bound=slice_genus\n",
    "        top_bound=topological_genus\n",
    "    else: #the knot is composite\n",
    "        prime_decomp=prime_decomposition(K)\n",
    "        slice_sum=0\n",
    "        top_sum=0\n",
    "        for L in prime_decomp:\n",
    "            M=L.exterior()\n",
    "            name='undefined'\n",
    "            m=0\n",
    "            if name=='undefined' and m<100:\n",
    "                if M.identify()==[]:\n",
    "                    M.randomize()\n",
    "                else:\n",
    "                    name=M.identify()[0].name()\n",
    "                m=m+1\n",
    "            try:\n",
    "                slice_sum+=slice_genus_knotinfo[name]\n",
    "                top_sum+=topological_genus_knotinfo[name]\n",
    "            except:\n",
    "                # this error occurs when the knot is torus, since SnapPy cannot identify them because \n",
    "                # they are not hyperbolic. We write a function which recognizes torus knots, and output \n",
    "                # the coefficients (p,q) which allow us to get \n",
    "                [x,y]=identify_torus(L.PD_code())\n",
    "                if x=='True':\n",
    "                    (p,q)=y\n",
    "                    slice_sum+=(1/2)*(p-1)*(q-1)\n",
    "                    top_sum+=(1/2)*(p-1)*(q-1)\n",
    "                else:\n",
    "                    print(L.PD_code(),'ERROR, it is not identifiable and not torus')\n",
    "                    slice_sum+=5 #'largest slice genus among low crossing knots'\n",
    "                    top_sum+=5 #'largest slice genus among low crossing knots'\n",
    "            \n",
    "        slice_bound=slice_sum\n",
    "        top_bound=top_sum\n",
    "        \n",
    "    return(slice_bound,top_bound)    "
   ]
  },
  {
   "cell_type": "markdown",
   "metadata": {},
   "source": [
    "The following function takes a pd_code, and returns an upper bound on the slice- and topological genus of the knot. Its does this by applying the two first operations from Lemma x to the pd code, and then simplifies each knot. If the simplified pd codes all have more than 12 crossings it repeats the process with the pd code of a knot with the least crossings. If there are simplified pd codes with less than 13 crossings, we get their slice and topological genus (or an upper bound on them using proposition x if the knots are not prime) from knotinfo. Among those, we look which of them have the lowest slice- and topological genus and return the respective slice genera plus the number of operations (counter) it took to obtain the knots. Throughout the process we save exactly which operations have been applied, so we can verify the bounds again if we wish to."
   ]
  },
  {
   "cell_type": "code",
   "execution_count": 488,
   "metadata": {},
   "outputs": [],
   "source": [
    "def upper_bounds(pd4,counter=0,change_sequence=[]):\n",
    "    '''\n",
    "    input: A PD-code of a knot K\n",
    "    output:[(g1,g2),change_sequence] where g1 is an upper bound on the slice genus\n",
    "            of K, and g2 is an upper bound on the topological genus of K. \n",
    "            Change_sequence is a list with each element a PD-code together with\n",
    "            the precise operation we applied to it to get to the PD-code in\n",
    "            the next element of the list\n",
    "    '''\n",
    "    pd=pd4.copy()\n",
    "    counter+=1\n",
    "    new_pds1=two_crossing_changer(pd)+crossing_changer(pd)      #+resoluter(pd)\n",
    "    new_pds2=[]\n",
    "    for k in range(len(new_pds1)):\n",
    "        t=new_pds1[k]         # t=[pd,[(i,j),'cc+-']] or t=[pd,[i,'cc']]\n",
    "        pd_new=t[0]\n",
    "        K=snappy.Link(pd_new)\n",
    "        K.simplify('level')  # one can also simplify more by replacing \"level\" with \"global\"\n",
    "        simplified_pd=K.PD_code()\n",
    "        new_pds2.append([simplified_pd,len(simplified_pd),t[1]])   \n",
    "    n=min([j[1] for j in new_pds2])        \n",
    "    if n<13:  # we have reached a low crossing knot\n",
    "        G=[]  #now lets look which low crossing knot has the lowest slice genus! \n",
    "        for [new_pd,c,change] in new_pds2:\n",
    "            if c<13:    \n",
    "                (g_slice,g_top)=low_crossing_genus(new_pd)\n",
    "                G.append([new_pd,(g_slice,g_top),change])\n",
    "        slice_min=min([k[1][0] for k in G]) # the minimal slice genus among all new low crossing pds\n",
    "        top_min=min([k[1][1] for k in G]) # the minimal topological slice genus among all new low crossing pds\n",
    "        best_slice=[]\n",
    "        best_top=[]\n",
    "        for k in G:\n",
    "            if k[1][0]==slice_min:\n",
    "                best_slice.append(k)\n",
    "            if k[1][1]==top_min:\n",
    "                best_top.append(k)     \n",
    "        if slice_min==top_min:\n",
    "            [best_pd,(g1,g2),best_change]=best_slice[0]\n",
    "            change_sequence.append([pd,best_change])\n",
    "            slice_bound=counter+g1\n",
    "            top_bound=counter+g2\n",
    "            return([(slice_bound,top_bound),change_sequence])\n",
    "        else: #if the minimal topological genus is different from the minimal slice genus\n",
    "            [best_pd_slice,(g1_slice,g2_slice),best_change_slice]=best_slice[0] \n",
    "            [best_pd_top,(g1_top,g2_top),best_change_top]=best_top[0]\n",
    "            change_sequence.append([pd,[best_change_slice,best_change_top]])\n",
    "            slice_bound=counter+g1_slice\n",
    "            top_bound=counter+g2_top\n",
    "            return([(slice_bound,top_bound),change_sequence])\n",
    "    else:    \n",
    "        best_ones=[]            #\n",
    "        for j in new_pds2:\n",
    "            if j[1]==n:\n",
    "                best_ones.append([j[0],j[2]])  \n",
    "        [best_pd,best_change]=best_ones[0] \n",
    "        change_sequence.append([pd,best_change])\n",
    "        return(upper_bounds(best_pd,counter,change_sequence))"
   ]
  },
  {
   "cell_type": "code",
   "execution_count": null,
   "metadata": {},
   "outputs": [],
   "source": []
  },
  {
   "cell_type": "code",
   "execution_count": null,
   "metadata": {},
   "outputs": [],
   "source": []
  },
  {
   "cell_type": "code",
   "execution_count": null,
   "metadata": {},
   "outputs": [],
   "source": []
  },
  {
   "cell_type": "code",
   "execution_count": null,
   "metadata": {},
   "outputs": [],
   "source": []
  },
  {
   "cell_type": "markdown",
   "metadata": {},
   "source": [
    "Now lets apply the final function upper bounds to all census knots who have not be determined to be strongly quasipositive"
   ]
  },
  {
   "cell_type": "markdown",
   "metadata": {},
   "source": [
    "Let's first import simplified diagrams of these. These diagrams have been obtained by simplifying the diagrams obtained by taking the closure of a braid word of the census knot."
   ]
  },
  {
   "cell_type": "code",
   "execution_count": 489,
   "metadata": {},
   "outputs": [
    {
     "data": {
      "text/plain": [
       "497"
      ]
     },
     "execution_count": 489,
     "metadata": {},
     "output_type": "execute_result"
    }
   ],
   "source": [
    "pd_codes_not_SQP=[]  \n",
    "with open('/Users/leomousseau/Desktop/Bachelor code census/pd_codes_not_SQP','r') as inp:\n",
    "    reader=csv.reader(inp)\n",
    "    for row in reader:\n",
    "        pd_codes_not_SQP.append(row)\n",
    "for k in pd_codes_not_SQP:\n",
    "    k[1]=literal_eval(k[1])\n",
    "len(pd_codes_not_SQP)"
   ]
  },
  {
   "cell_type": "code",
   "execution_count": null,
   "metadata": {},
   "outputs": [],
   "source": [
    "L=[]\n",
    "for [name,pd] in pd_codes_not_SQP:\n",
    "    [(g1,g2),change_sequence]=upper_bounds(pd,0,[])\n",
    "    L.append([name,(g1,g2),change_sequence])"
   ]
  },
  {
   "cell_type": "code",
   "execution_count": null,
   "metadata": {},
   "outputs": [],
   "source": [
    "L2=[[k[0],k[1]] for k in L]"
   ]
  },
  {
   "cell_type": "markdown",
   "metadata": {},
   "source": [
    "lets us quickly add the low crossing slice genera of the census knots which already have a diagram with less than 13 crossings"
   ]
  },
  {
   "cell_type": "code",
   "execution_count": 505,
   "metadata": {},
   "outputs": [],
   "source": [
    "for k in pd_codes_not_SQP:\n",
    "    if len(k[1])<13:\n",
    "        g1=slice_genus_knotinfo[k[0]]\n",
    "        g2=topological_genus_knotinfo[k[0]]\n",
    "        L2.append([k[0],(g1,g2)])"
   ]
  },
  {
   "cell_type": "markdown",
   "metadata": {},
   "source": [
    "lets also add the upper bound g^top(K)=< (1/2)*degree(alexander polynomial)"
   ]
  },
  {
   "cell_type": "code",
   "execution_count": 527,
   "metadata": {},
   "outputs": [],
   "source": [
    "for k in L2:\n",
    "    L=snappy.Link(pd_dict[k[0]])\n",
    "    p=L.exterior().alexander_polynomial()\n",
    "    if k[1][1]>(1/2)*p.degree():\n",
    "        k[1]=(k[1][0],(1/2)*p.degree())"
   ]
  },
  {
   "cell_type": "code",
   "execution_count": null,
   "metadata": {},
   "outputs": [],
   "source": []
  },
  {
   "cell_type": "code",
   "execution_count": null,
   "metadata": {},
   "outputs": [],
   "source": []
  },
  {
   "cell_type": "markdown",
   "metadata": {},
   "source": [
    "Lets put these bounds together with the bounds of the SQP knots"
   ]
  },
  {
   "cell_type": "code",
   "execution_count": 538,
   "metadata": {},
   "outputs": [],
   "source": [
    "all_pd_codes=[]\n",
    "with open('/Users/leomousseau/Desktop/Bachelorarbeit/pd_codes_census','r') as inp:\n",
    "    reader=csv.reader(inp)\n",
    "    for row in reader:\n",
    "        all_pd_codes.append(row)\n",
    "pd_dict=dict(pd_codes)"
   ]
  },
  {
   "cell_type": "code",
   "execution_count": 540,
   "metadata": {},
   "outputs": [
    {
     "data": {
      "text/plain": [
       "770"
      ]
     },
     "execution_count": 540,
     "metadata": {},
     "output_type": "execute_result"
    }
   ],
   "source": [
    "pd_codes_SQP=[]\n",
    "for k in all_pd_codes:\n",
    "    if k[0] not in [j[0] for j in pd_codes_not_SQP]:\n",
    "        pd_codes_SQP.append(k)"
   ]
  },
  {
   "cell_type": "markdown",
   "metadata": {},
   "source": [
    "Let's get the computed Seifert genus of all census knots "
   ]
  },
  {
   "cell_type": "code",
   "execution_count": 544,
   "metadata": {},
   "outputs": [],
   "source": [
    "seifert_genus=[]\n",
    "with open('/Users/leomousseau/Desktop/Bachelor code census/seifert genus census knots.csv','r') as inp:\n",
    "    reader=csv.reader(inp)\n",
    "    for row in reader:\n",
    "        seifert_genus.append(row)\n",
    "del seifert_genus[0]\n",
    "for k in seifert_genus:\n",
    "    k[1]=eval(k[1])\n",
    "seifert_dict=dict(seifert_genus)"
   ]
  },
  {
   "cell_type": "markdown",
   "metadata": {},
   "source": [
    "as discussed before, the seifert genus is equal to the slice genus for strongly quasipositive knots"
   ]
  },
  {
   "cell_type": "code",
   "execution_count": 547,
   "metadata": {},
   "outputs": [],
   "source": [
    "bounds_SQP=[]\n",
    "\n",
    "for k in pd_codes_SQP:\n",
    "    slice_genus=seifert_dict[k[0]]\n",
    "    p=snappy.Link(eval(k[1])).exterior().alexander_polynomial()\n",
    "    top_bound=min(slice_genus,(1/2)*p.degree())\n",
    "    bounds_SQP.append([k[0],(slice_genus,top_bound)])\n"
   ]
  },
  {
   "cell_type": "markdown",
   "metadata": {},
   "source": [
    "Now combine the lists to obtain the upper bounds list of the slice genera of the census knots:"
   ]
  },
  {
   "cell_type": "code",
   "execution_count": 551,
   "metadata": {},
   "outputs": [],
   "source": [
    "final_upper_bounds=bounds_SQP+L2"
   ]
  },
  {
   "cell_type": "markdown",
   "metadata": {},
   "source": [
    "sort the list before saving it:"
   ]
  },
  {
   "cell_type": "code",
   "execution_count": 554,
   "metadata": {},
   "outputs": [],
   "source": [
    "dict2=dict(final_upper_bounds)\n",
    "final_list=[]\n",
    "for k in pd_codes:\n",
    "    final_list.append([k[0],dict2[k[0]]])\n",
    "    "
   ]
  },
  {
   "cell_type": "code",
   "execution_count": 557,
   "metadata": {},
   "outputs": [],
   "source": [
    "with open('upper_bounds_census_final.csv','w') as out:\n",
    "    writer=csv.writer(out)\n",
    "    for row in final_list:\n",
    "        writer.writerow(row)"
   ]
  }
 ],
 "metadata": {
  "kernelspec": {
   "display_name": "SageMath 9.4",
   "language": "sage",
   "name": "sagemath-9.4"
  },
  "language_info": {
   "codemirror_mode": {
    "name": "ipython",
    "version": 3
   },
   "file_extension": ".py",
   "mimetype": "text/x-python",
   "name": "python",
   "nbconvert_exporter": "python",
   "pygments_lexer": "ipython3",
   "version": "3.9.5"
  }
 },
 "nbformat": 4,
 "nbformat_minor": 4
}
