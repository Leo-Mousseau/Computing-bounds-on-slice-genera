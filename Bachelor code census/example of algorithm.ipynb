{
 "cells": [
  {
   "cell_type": "code",
   "execution_count": 9,
   "metadata": {},
   "outputs": [],
   "source": [
    "import snappy\n",
    "import ast\n",
    "import csv\n",
    "import pickle\n",
    "import random\n",
    "import time \n",
    "from ast import literal_eval\n",
    "from itertools import product"
   ]
  },
  {
   "cell_type": "code",
   "execution_count": 75,
   "metadata": {},
   "outputs": [],
   "source": [
    "def marker(pd2,i):\n",
    "    '''\n",
    "    input: pd code and a crossing in it\n",
    "    output: the pd code with an unknot around the crossing\n",
    "    '''\n",
    "    pd=pd2.copy()\n",
    "    for k in range(len(pd)):\n",
    "        pd[k]=list(pd[k])\n",
    "    n=max([max(k) for k in pd])\n",
    "    new_pd=[]\n",
    "    [a,b,c,d]=pd[i].copy()\n",
    "    pd.remove(pd[i])\n",
    "    if b==0:\n",
    "        if d==1:\n",
    "            for t in pd:\n",
    "                new_t=[]\n",
    "                for k in t:\n",
    "                    if d<=k<=a:\n",
    "                        k=k+2\n",
    "                    elif c<=k<=n:\n",
    "                        k=k+4\n",
    "                    new_t.append(k)\n",
    "                new_pd.append(new_t)\n",
    "            new_pd.append([a+2,n+5,a+3,n+8])\n",
    "            new_pd.append([0,n+6,1,n+5])\n",
    "            new_pd.append([2,n+7,3,n+8]) # or maybe just c?\n",
    "            new_pd.append([a+4,n+6,c+4,n+7])\n",
    "            new_pd.append([a+3,1,a+4,2])\n",
    "            return(new_pd)\n",
    "        else:\n",
    "            for t in pd:\n",
    "                new_t=[]\n",
    "                for k in t:\n",
    "                    if c<=k:\n",
    "                        k=k+2\n",
    "                    new_t.append(k)\n",
    "                new_pd.append(new_t)\n",
    "            new_pd.append([a,n+5,a+1,n+8])\n",
    "            new_pd.append([n+4,n+5,0,n+6])\n",
    "            new_pd.append([a+2,n+6,c+2,n+7]) # or maybe just c?\n",
    "            new_pd.append([n+2,n+8,n+3,n+7])\n",
    "            new_pd.append([a+1,n+4,a+2,n+3])\n",
    "            return(new_pd)\n",
    "        \n",
    "    if c==0:\n",
    "        if d>b:\n",
    "            for t in pd:\n",
    "                new_t=[]\n",
    "                for k in t:\n",
    "                    if d<=k:\n",
    "                        k=k+2\n",
    "                    new_t.append(k)\n",
    "                new_pd.append(new_t)\n",
    "            new_pd.append([n+2,n+5,n+3,n+8])\n",
    "            new_pd.append([n+4,n+6,0,n+7])\n",
    "            new_pd.append([b+2,n+7,d+2,n+8]) # or maybe just c?\n",
    "            new_pd.append([b,n+6,b+1,n+5])\n",
    "            new_pd.append([n+3,b+1,n+4,b+2])\n",
    "            return(new_pd)\n",
    "        else:\n",
    "            for t in pd:\n",
    "                new_t=[]\n",
    "                for k in t:\n",
    "                    if b<=k:\n",
    "                        k=k+2\n",
    "                    new_t.append(k)\n",
    "                new_pd.append(new_t)\n",
    "            new_pd.append([n+2,n+5,n+3,n+8])\n",
    "            new_pd.append([n+4,n+6,0,n+7])\n",
    "            new_pd.append([d+2,n+5,b+2,n+6]) # or maybe just c?\n",
    "            new_pd.append([d,n+8,d+1,n+7])\n",
    "            new_pd.append([n+3,d+2,n+4,d+1])\n",
    "            return(new_pd)\n",
    "        \n",
    "    if d==0:\n",
    "        if b==1:\n",
    "            for t in pd:\n",
    "                new_t=[]\n",
    "                for k in t:\n",
    "                    if b<=k<=a:\n",
    "                        k=k+2\n",
    "                    elif c<=k<=n:\n",
    "                        k=k+4\n",
    "                    new_t.append(k)\n",
    "                new_pd.append(new_t)\n",
    "            new_pd.append([a+2,n+5,a+3,n+8])\n",
    "            new_pd.append([2,n+5,3,n+6])\n",
    "            new_pd.append([a+4,n+6,c+4,n+7]) # or maybe just c?\n",
    "            new_pd.append([0,n+8,1,n+7])\n",
    "            new_pd.append([a+3,2,a+4,1])\n",
    "            return(new_pd)\n",
    "        else:\n",
    "            for t in pd:\n",
    "                new_t=[]\n",
    "                for k in t:\n",
    "                    if c<=k:\n",
    "                        k=k+2\n",
    "                    new_t.append(k)\n",
    "                new_pd.append(new_t)\n",
    "            new_pd.append([a,n+5,a+1,n+8])\n",
    "            new_pd.append([n+2,n+6,n+3,n+5])\n",
    "            new_pd.append([a+2,n+6,c+2,n+7]) # or maybe just c?\n",
    "            new_pd.append([n+4,n+7,0,n+8])\n",
    "            new_pd.append([a+1,n+3,a+2,n+4])\n",
    "            return(new_pd)\n",
    "    if b<d or d==0: # b points to d in the orientation\n",
    "        if a<b: # the second strand comes after the a,c strand in the numbering\n",
    "            for t in pd:\n",
    "                new_t=[]\n",
    "                for k in t:\n",
    "                    if c<=k<=b:\n",
    "                        k=k+2\n",
    "                    elif d<=k<=n:\n",
    "                        k=k+4\n",
    "                    new_t.append(k)\n",
    "                new_pd.append(new_t)\n",
    "            new_pd.append([a,n+5,a+1,n+8])\n",
    "            new_pd.append([b+2,n+6,b+3,n+5])\n",
    "            new_pd.append([a+2,n+6,c+2,n+7]) # or maybe just c?\n",
    "            new_pd.append([b+4,n+7,d+4,n+8])\n",
    "            new_pd.append([a+1,b+3,a+2,b+4])\n",
    "            \n",
    "        if b<a:\n",
    "            for t in pd:\n",
    "                new_t=[]\n",
    "                for k in t:\n",
    "                    if d<=k<=a:\n",
    "                        k=k+2\n",
    "                    elif c<=k<=n:\n",
    "                        k=k+4\n",
    "                    new_t.append(k)\n",
    "                new_pd.append(new_t)\n",
    "            new_pd.append([a+2,n+5,a+3,n+8])\n",
    "            new_pd.append([b,n+6,b+1,n+5])\n",
    "            new_pd.append([b+2,n+7,d+2,n+8]) # or maybe just c?\n",
    "            new_pd.append([a+4,n+6,c+4,n+7])\n",
    "            new_pd.append([a+3,b+1,a+4,b+2])\n",
    "    else: # d points to b\n",
    "        if c<d:\n",
    "            for t in pd:\n",
    "                new_t=[]\n",
    "                for k in t:\n",
    "                    if c<=k<=d:\n",
    "                        k=k+2\n",
    "                    elif b<=k<=n:\n",
    "                        k=k+4\n",
    "                    new_t.append(k)\n",
    "                new_pd.append(new_t)\n",
    "            new_pd.append([a,n+5,a+1,n+8])\n",
    "            new_pd.append([d+4,n+5,b+4,n+6])\n",
    "            new_pd.append([a+2,n+6,c+2,n+7]) # or maybe just c?\n",
    "            new_pd.append([d+2,n+8,d+3,n+7])\n",
    "            new_pd.append([a+1,d+4,a+2,d+3])\n",
    "           \n",
    "        if c>d:\n",
    "            for t in pd:\n",
    "                new_t=[]\n",
    "                for k in t:\n",
    "                    if b<=k<=a:\n",
    "                        k=k+2\n",
    "                    elif c<=k<=n:\n",
    "                        k=k+4\n",
    "                    new_t.append(k)\n",
    "                new_pd.append(new_t)\n",
    "            new_pd.append([a+2,n+5,a+3,n+8])\n",
    "            new_pd.append([d+2,n+5,b+2,n+6])\n",
    "            new_pd.append([a+4,n+6,c+4,n+7]) # or maybe just c?\n",
    "            new_pd.append([d,n+8,d+1,n+7])\n",
    "            new_pd.append([a+3,d+2,a+4,d+1])   \n",
    "    return(new_pd)\n",
    "def cc(pd2,i):\n",
    "    '''\n",
    "    changes the ith crossing\n",
    "    '''\n",
    "    pd=pd2.copy()\n",
    "    if pos_crossing(pd,i):\n",
    "        [a,b,c,d]=pd[i]\n",
    "        pd[i]=[d,a,b,c]\n",
    "    else:\n",
    "        [a,b,c,d]=pd[i]\n",
    "        pd[i]=[b,c,d,a]\n",
    "    return(pd)\n",
    "\n",
    "def pos_crossing(pd,i):\n",
    "    '''\n",
    "    True if the i-th crossing is positive, False else\n",
    "    '''\n",
    "    n=max([max(k) for k in pd])\n",
    "    print(n)\n",
    "    (a,b,c,d)=pd[i]\n",
    "    if d==n:\n",
    "        if b==0:\n",
    "            return(True)\n",
    "    if b==n:\n",
    "        if d==0:\n",
    "            return(False)\n",
    "    if d<b:\n",
    "        return(True)\n",
    "    return(False)"
   ]
  },
  {
   "cell_type": "code",
   "execution_count": 167,
   "metadata": {},
   "outputs": [],
   "source": [
    "[(g1,g2),pds]=[(8, 7),[[[(15, 24, 16, 25),\n",
    "    (71, 26, 72, 27),\n",
    "    (52, 25, 53, 26),\n",
    "    (4, 23, 5, 24),\n",
    "    (50, 0, 51, 97),\n",
    "    (86, 21, 87, 22),\n",
    "    (68, 2, 69, 1),\n",
    "    (70, 52, 71, 51),\n",
    "    (69, 83, 70, 82),\n",
    "    (49, 81, 50, 80),\n",
    "    (34, 73, 35, 74),\n",
    "    (3, 85, 4, 84),\n",
    "    (14, 84, 15, 83),\n",
    "    (13, 3, 14, 2),\n",
    "    (6, 20, 7, 19),\n",
    "    (35, 18, 36, 19),\n",
    "    (85, 39, 86, 38),\n",
    "    (20, 87, 21, 88),\n",
    "    (22, 37, 23, 38),\n",
    "    (42, 94, 43, 93),\n",
    "    (88, 8, 89, 7),\n",
    "    (90, 31, 91, 32),\n",
    "    (36, 5, 37, 6),\n",
    "    (41, 30, 42, 31),\n",
    "    (40, 10, 41, 9),\n",
    "    (95, 45, 96, 44),\n",
    "    (91, 59, 92, 58),\n",
    "    (43, 61, 44, 60),\n",
    "    (27, 96, 28, 97),\n",
    "    (89, 75, 90, 74),\n",
    "    (29, 62, 30, 63),\n",
    "    (57, 32, 58, 33),\n",
    "    (28, 45, 29, 46),\n",
    "    (33, 56, 34, 57),\n",
    "    (64, 48, 65, 47),\n",
    "    (16, 54, 17, 53),\n",
    "    (55, 73, 56, 72),\n",
    "    (59, 93, 60, 92),\n",
    "    (94, 62, 95, 61),\n",
    "    (78, 64, 79, 63),\n",
    "    (11, 67, 12, 66),\n",
    "    (48, 66, 49, 65),\n",
    "    (54, 18, 55, 17),\n",
    "    (39, 77, 40, 76),\n",
    "    (8, 76, 9, 75),\n",
    "    (77, 11, 78, 10),\n",
    "    (67, 13, 68, 12),\n",
    "    (79, 47, 80, 46),\n",
    "    (81, 1, 82, 0)],\n",
    "   [(14, 15), 'cc+-']],\n",
    "  [[(20, 4, 21, 3),\n",
    "    (19, 11, 20, 10),\n",
    "    (21, 29, 22, 28),\n",
    "    (11, 31, 12, 30),\n",
    "    (4, 30, 5, 29),\n",
    "    (12, 8, 13, 7),\n",
    "    (31, 9, 32, 8),\n",
    "    (33, 15, 0, 14),\n",
    "    (32, 26, 33, 25),\n",
    "    (13, 25, 14, 24),\n",
    "    (16, 2, 17, 1),\n",
    "    (2, 18, 3, 17),\n",
    "    (26, 16, 27, 15),\n",
    "    (9, 19, 10, 18),\n",
    "    (5, 23, 6, 22),\n",
    "    (23, 7, 24, 6),\n",
    "    (27, 1, 28, 0)],\n",
    "   [0, 'cc']],\n",
    "  [[(18, 10, 19, 9),\n",
    "    (14, 26, 15, 25),\n",
    "    (5, 25, 6, 24),\n",
    "    (2, 22, 3, 21),\n",
    "    (15, 7, 16, 6),\n",
    "    (27, 9, 0, 8),\n",
    "    (26, 18, 27, 17),\n",
    "    (11, 21, 12, 20),\n",
    "    (10, 2, 11, 1),\n",
    "    (4, 14, 5, 13),\n",
    "    (23, 13, 24, 12),\n",
    "    (7, 17, 8, 16),\n",
    "    (22, 4, 23, 3),\n",
    "    (19, 1, 20, 0)],\n",
    "   [[0, 'cc'], [0, 'cc']]]]]"
   ]
  },
  {
   "cell_type": "code",
   "execution_count": 168,
   "metadata": {},
   "outputs": [
    {
     "data": {
      "text/plain": [
       "3"
      ]
     },
     "execution_count": 168,
     "metadata": {},
     "output_type": "execute_result"
    }
   ],
   "source": [
    "len(pds)"
   ]
  },
  {
   "cell_type": "code",
   "execution_count": 203,
   "metadata": {},
   "outputs": [],
   "source": [
    "[pd1,change1]=pds[0]\n",
    "[pd2,change2]=pds[1]\n",
    "[pd3,change3]=pds[2]"
   ]
  },
  {
   "cell_type": "code",
   "execution_count": 170,
   "metadata": {},
   "outputs": [
    {
     "data": {
      "text/plain": [
       "[[(14, 15), 'cc+-'], [0, 'cc'], [[0, 'cc'], [0, 'cc']]]"
      ]
     },
     "execution_count": 170,
     "metadata": {},
     "output_type": "execute_result"
    }
   ],
   "source": [
    "[change1,change2,change3]"
   ]
  },
  {
   "cell_type": "code",
   "execution_count": 171,
   "metadata": {},
   "outputs": [
    {
     "data": {
      "text/plain": [
       "(49, 17, 14)"
      ]
     },
     "execution_count": 171,
     "metadata": {},
     "output_type": "execute_result"
    }
   ],
   "source": [
    "len(pd1),len(pd2),len(pd3)"
   ]
  },
  {
   "cell_type": "code",
   "execution_count": 225,
   "metadata": {},
   "outputs": [],
   "source": [
    "pd=[(72,95,73,96),(96,71,97,72),(67,84,68,85),(80,69,81,70),(91,64,92,65),(61,76,62,77),(93,57,94,56),(57,75,58,74),(55,93,56,92),(54,63,55,64),(79,49,80,48),(75,44,76,45),(58,45,59,46),(43,62,44,63),(52,42,53,41),(89,39,90,38),(66,37,67,38),(36,84,37,83),(81,35,82,34),(32,98,33,97),(31,70,32,71),(59,28,60,29),(29,47,30,46),(88,22,89,21),(26,78,27,77),(27,60,28,61),(53,25,54,24),(42,26,43,25),(22,40,23,39),(20,86,21,85),(78,18,79,17),(18,50,19,49),(47,17,48,16),(30,16,31,15),(94,14,95,13),(73,14,74,15),(11,91,12,90),(12,65,13,66),(9,41,10,40),(10,24,11,23),(8,52,9,51),(50,8,51,7),(87,7,88,6),(5,87,6,86),(68,3,69,4),(35,3,36,2),(19,5,20,4),(82,2,83,1),(98,34,1,33)]\n",
    "    "
   ]
  },
  {
   "cell_type": "code",
   "execution_count": 237,
   "metadata": {},
   "outputs": [
    {
     "name": "stdout",
     "output_type": "stream",
     "text": [
      "[[21, 13, 22, 12], [25, 33, 26, 32], [13, 35, 14, 34], [6, 34, 7, 33], [14, 10, 15, 9], [35, 11, 36, 10], [37, 17, 0, 16], [36, 30, 37, 29], [15, 29, 16, 28], [18, 2, 19, 1], [2, 20, 3, 19], [30, 18, 31, 17], [11, 21, 12, 20], [7, 27, 8, 26], [27, 9, 28, 8], [31, 1, 32, 0], [22, 38, 23, 41], [5, 38, 6, 39], [24, 39, 25, 40], [3, 41, 4, 40], [23, 5, 24, 4]]\n"
     ]
    },
    {
     "data": {
      "image/png": "[encoded data removed]",
      "text/plain": [
       "Graphics object consisting of 73 graphics primitives"
      ]
     },
     "execution_count": 237,
     "metadata": {},
     "output_type": "execute_result"
    }
   ],
   "source": [
    "L=snappy.Link(marker(pd2,0))\n",
    "print(marker(pd2,0))\n",
    "L.sage_link().plot()"
   ]
  },
  {
   "cell_type": "code",
   "execution_count": 235,
   "metadata": {},
   "outputs": [
    {
     "name": "stdout",
     "output_type": "stream",
     "text": [
      "[[16, 30, 17, 29], [5, 29, 6, 28], [2, 26, 3, 25], [17, 7, 18, 6], [31, 9, 0, 8], [30, 20, 31, 19], [13, 25, 14, 24], [12, 2, 13, 1], [4, 16, 5, 15], [27, 15, 28, 14], [7, 19, 8, 18], [26, 4, 27, 3], [23, 1, 24, 0], [20, 32, 21, 35], [11, 32, 12, 33], [22, 33, 23, 34], [9, 35, 10, 34], [21, 11, 22, 10]]\n"
     ]
    },
    {
     "data": {
      "image/png": "[encoded data removed]",
      "text/plain": [
       "Graphics object consisting of 64 graphics primitives"
      ]
     },
     "execution_count": 235,
     "metadata": {},
     "output_type": "execute_result"
    }
   ],
   "source": [
    "L=snappy.Link(marker(pd3,0))\n",
    "print(marker(pd3,0))\n",
    "L.sage_link().plot()"
   ]
  },
  {
   "cell_type": "code",
   "execution_count": 240,
   "metadata": {},
   "outputs": [],
   "source": [
    "pd= [(4,8,5,7),(26,12,1,11),(13,3,14,2),(5,17,6,16),(15,7,16,6),(10,18,11,17),(19,13,20,12),(20,2,21,1),(3,23,4,22),(14,22,15,21),(23,9,24,8),(9,25,10,24),(25,19,26,18)]\n"
   ]
  },
  {
   "cell_type": "code",
   "execution_count": 241,
   "metadata": {},
   "outputs": [
    {
     "data": {
      "text/plain": [
       "[m016(0,0), K3_1(0,0), K12n242(0,0)]"
      ]
     },
     "execution_count": 241,
     "metadata": {},
     "output_type": "execute_result"
    }
   ],
   "source": [
    "snappy.Link(pd).exterior().identify()"
   ]
  },
  {
   "cell_type": "code",
   "execution_count": 246,
   "metadata": {},
   "outputs": [
    {
     "name": "stdout",
     "output_type": "stream",
     "text": [
      "[(82, 14, -24, -20, -76, 78, 68, -84, -54, 36, -88, -38, 16, 72, -46, 42, 58, -74, -6, 86, -10, -94, 96, 80, -66, -98, -26, -18, 34, 92, 44, 30, -48, 12, -2, -52, 56, 90, 40, -64, 50, 70, 4, -22, -8, -32, 60, -62, 28)]\n"
     ]
    }
   ],
   "source": [
    "print(snappy.Link(pd1).DT_code())"
   ]
  },
  {
   "cell_type": "code",
   "execution_count": 250,
   "metadata": {},
   "outputs": [
    {
     "data": {
      "text/plain": [
       "[(82,\n",
       "  14,\n",
       "  -24,\n",
       "  -20,\n",
       "  -76,\n",
       "  78,\n",
       "  68,\n",
       "  -84,\n",
       "  -54,\n",
       "  36,\n",
       "  -88,\n",
       "  -38,\n",
       "  16,\n",
       "  72,\n",
       "  -46,\n",
       "  42,\n",
       "  58,\n",
       "  -74,\n",
       "  -6,\n",
       "  86,\n",
       "  -10,\n",
       "  -94,\n",
       "  96,\n",
       "  80,\n",
       "  -66,\n",
       "  -98,\n",
       "  -26,\n",
       "  -18,\n",
       "  34,\n",
       "  92,\n",
       "  44,\n",
       "  30,\n",
       "  -48,\n",
       "  12,\n",
       "  -2,\n",
       "  -52,\n",
       "  56,\n",
       "  90,\n",
       "  40,\n",
       "  -64,\n",
       "  50,\n",
       "  70,\n",
       "  4,\n",
       "  -22,\n",
       "  -8,\n",
       "  -32,\n",
       "  60,\n",
       "  -62,\n",
       "  28)]"
      ]
     },
     "execution_count": 250,
     "metadata": {},
     "output_type": "execute_result"
    }
   ],
   "source": [
    "snappy.Link(pd1).DT_code()"
   ]
  },
  {
   "cell_type": "code",
   "execution_count": null,
   "metadata": {},
   "outputs": [],
   "source": [
    "82, 14, -24, -20, -76, 78, 68, -84, -54, 36, -88, -38, 16, 72, -46, 42, 58, -74, -6, 86, -10, -94, 96, 80, -66, -98, -26, -18, 34, 92, 44, 30, -48, 12, -2, -52, 56, 90, 40, -64, 50, 70, 4, -22, -8, -32, 60, -62, 28"
   ]
  },
  {
   "cell_type": "code",
   "execution_count": 251,
   "metadata": {},
   "outputs": [
    {
     "ename": "NameError",
     "evalue": "name 'pd_codes' is not defined",
     "output_type": "error",
     "traceback": [
      "\u001b[0;31m---------------------------------------------------------------------------\u001b[0m",
      "\u001b[0;31mNameError\u001b[0m                                 Traceback (most recent call last)",
      "\u001b[0;32m<ipython-input-251-a5cbe75e40e9>\u001b[0m in \u001b[0;36m<module>\u001b[0;34m\u001b[0m\n\u001b[0;32m----> 1\u001b[0;31m \u001b[0mprint\u001b[0m\u001b[0;34m(\u001b[0m\u001b[0mpd_codes\u001b[0m\u001b[0;34m[\u001b[0m\u001b[0mInteger\u001b[0m\u001b[0;34m(\u001b[0m\u001b[0;36m50\u001b[0m\u001b[0;34m)\u001b[0m\u001b[0;34m]\u001b[0m\u001b[0;34m[\u001b[0m\u001b[0mInteger\u001b[0m\u001b[0;34m(\u001b[0m\u001b[0;36m1\u001b[0m\u001b[0;34m)\u001b[0m\u001b[0;34m]\u001b[0m\u001b[0;34m)\u001b[0m\u001b[0;34m\u001b[0m\u001b[0;34m\u001b[0m\u001b[0m\n\u001b[0m",
      "\u001b[0;31mNameError\u001b[0m: name 'pd_codes' is not defined"
     ]
    }
   ],
   "source": [
    "print(pd_codes[50][1])"
   ]
  },
  {
   "cell_type": "code",
   "execution_count": 253,
   "metadata": {},
   "outputs": [
    {
     "data": {
      "text/plain": [
       "[o9_08268(0,0), K9_112(0,0)]"
      ]
     },
     "execution_count": 253,
     "metadata": {},
     "output_type": "execute_result"
    }
   ],
   "source": [
    "L=snappy.Link(pd1)\n",
    "L.exterior().identify()"
   ]
  },
  {
   "cell_type": "code",
   "execution_count": 254,
   "metadata": {},
   "outputs": [
    {
     "data": {
      "text/plain": [
       "{'L_space_knot': False,\n",
       " 'epsilon': 1,\n",
       " 'fibered': True,\n",
       " 'modulus': 2,\n",
       " 'nu': 8,\n",
       " 'ranks': {(-15, -28): 1,\n",
       "  (-14, -27): 2,\n",
       "  (-13, -26): 1,\n",
       "  (-11, -20): 1,\n",
       "  (-10, -19): 2,\n",
       "  (-9, -18): 1,\n",
       "  (-8, -16): 1,\n",
       "  (-7, -15): 1,\n",
       "  (-7, -14): 1,\n",
       "  (-6, -13): 2,\n",
       "  (-5, -12): 1,\n",
       "  (-4, -10): 1,\n",
       "  (-3, -9): 1,\n",
       "  (-3, -8): 1,\n",
       "  (-2, -7): 1,\n",
       "  (-1, -7): 1,\n",
       "  (-1, -6): 1,\n",
       "  (0, -6): 1,\n",
       "  (1, -5): 1,\n",
       "  (1, -4): 1,\n",
       "  (2, -3): 1,\n",
       "  (3, -3): 1,\n",
       "  (3, -2): 1,\n",
       "  (4, -2): 1,\n",
       "  (5, -2): 1,\n",
       "  (6, -1): 2,\n",
       "  (7, -1): 1,\n",
       "  (7, 0): 1,\n",
       "  (8, 0): 1,\n",
       "  (9, 0): 1,\n",
       "  (10, 1): 2,\n",
       "  (11, 2): 1,\n",
       "  (13, 0): 1,\n",
       "  (14, 1): 2,\n",
       "  (15, 2): 1},\n",
       " 'seifert_genus': 15,\n",
       " 'tau': 8,\n",
       " 'total_rank': 41}"
      ]
     },
     "execution_count": 254,
     "metadata": {},
     "output_type": "execute_result"
    }
   ],
   "source": [
    "L=snappy.Link(pd1)\n",
    "L.knot_floer_homology()"
   ]
  },
  {
   "cell_type": "code",
   "execution_count": 255,
   "metadata": {},
   "outputs": [
    {
     "data": {
      "text/plain": [
       "-10"
      ]
     },
     "execution_count": 255,
     "metadata": {},
     "output_type": "execute_result"
    }
   ],
   "source": [
    "L.signature()"
   ]
  },
  {
   "cell_type": "code",
   "execution_count": 256,
   "metadata": {},
   "outputs": [
    {
     "data": {
      "text/plain": [
       "49"
      ]
     },
     "execution_count": 256,
     "metadata": {},
     "output_type": "execute_result"
    }
   ],
   "source": [
    "len(pd1)"
   ]
  },
  {
   "cell_type": "code",
   "execution_count": null,
   "metadata": {},
   "outputs": [],
   "source": []
  }
 ],
 "metadata": {
  "kernelspec": {
   "display_name": "SageMath 9.4",
   "language": "sage",
   "name": "sagemath-9.4"
  },
  "language_info": {
   "codemirror_mode": {
    "name": "ipython",
    "version": 3
   },
   "file_extension": ".py",
   "mimetype": "text/x-python",
   "name": "python",
   "nbconvert_exporter": "python",
   "pygments_lexer": "ipython3",
   "version": "3.9.5"
  }
 },
 "nbformat": 4,
 "nbformat_minor": 4
}
