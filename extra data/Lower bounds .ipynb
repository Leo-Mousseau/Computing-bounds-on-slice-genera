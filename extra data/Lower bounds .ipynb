{
 "cells": [
  {
   "cell_type": "code",
   "execution_count": 103,
   "metadata": {},
   "outputs": [],
   "source": [
    "import snappy\n",
    "import ast\n",
    "import csv\n",
    "import pickle"
   ]
  },
  {
   "cell_type": "markdown",
   "metadata": {},
   "source": [
    "Lets import all pd codes of the census knots"
   ]
  },
  {
   "cell_type": "code",
   "execution_count": 104,
   "metadata": {},
   "outputs": [],
   "source": [
    "pd_codes=[]\n",
    "with open('/Users/leomousseau/Desktop/Bachelorarbeit/pd_codes_census','r') as inp:\n",
    "    reader=csv.reader(inp)\n",
    "    for row in reader:\n",
    "        pd_codes.append(row)\n",
    "\n",
    "for k in pd_codes:\n",
    "    k[1]=eval(k[1])\n",
    "\n",
    "pd_dict=dict(pd_codes)"
   ]
  },
  {
   "cell_type": "markdown",
   "metadata": {},
   "source": [
    "lets first find lower bounds on the slice genus. We only need to consider the non SQP ones, since we have exact values for the others"
   ]
  },
  {
   "cell_type": "markdown",
   "metadata": {},
   "source": [
    "lets import all known tau-invariant values of the census knots"
   ]
  },
  {
   "cell_type": "code",
   "execution_count": 105,
   "metadata": {},
   "outputs": [],
   "source": [
    "tau = []\n",
    "with open('/Users/leomousseau/Desktop/Bachelor code census/knot floer data.csv', 'r') as inp:\n",
    "    reader = csv.reader(inp)\n",
    "    for row in reader:\n",
    "        try:\n",
    "            tau.append([row[0], float(row[7])])\n",
    "        except ValueError:\n",
    "            continue\n",
    "del tau[0]\n",
    "tau_dict=dict(tau)\n"
   ]
  },
  {
   "cell_type": "code",
   "execution_count": 106,
   "metadata": {},
   "outputs": [],
   "source": [
    "lower_bounds_slice=[]\n",
    "for k in pd_codes:\n",
    "    try:\n",
    "        tau=abs(tau_dict[k[0]])\n",
    "    except:\n",
    "        tau=0\n",
    "    lower_bounds_slice.append([k[0],tau])\n",
    "  \n",
    "    "
   ]
  },
  {
   "cell_type": "markdown",
   "metadata": {},
   "source": [
    "Lets now compute lower bounds on the topological genus of census knots via the bound (1/2)*abs(signature)=< g^top"
   ]
  },
  {
   "cell_type": "code",
   "execution_count": 107,
   "metadata": {},
   "outputs": [],
   "source": [
    "lower_bounds_top=[]\n",
    "for k in pd_codes:\n",
    "    s=snappy.Link(k[1]).signature()\n",
    "    b=(1/2)*abs(s)\n",
    "    lower_bounds_top.append([k[0],b])"
   ]
  },
  {
   "cell_type": "markdown",
   "metadata": {},
   "source": [
    "Lets use the SnapPy built-in function \"slice_obstruction_HKL(primes_spec, verbose=False, check_in_S3=True)\":\n",
    "\n",
    "For the exterior of a knot in S^3, this function searches for a topological slicing obstruction from:\n",
    "\n",
    "Herald, Kirk, Livingston, Math Zeit., 2010 https://dx.doi.org/10.1007/s00209-009-0548-1 https://arxiv.org/abs/0804.1355"
   ]
  },
  {
   "cell_type": "code",
   "execution_count": null,
   "metadata": {
    "scrolled": true
   },
   "outputs": [],
   "source": [
    "spec = [(10, [0, 20]), (20, [0, 10])]\n",
    "for k in lower_bounds_top:\n",
    "    L=snappy.Link(pd_dict[k[0]])\n",
    "    M=L.exterior()\n",
    "    if k[1]==0: # lets try to obstruct the topological sliceness via the\n",
    "        try:\n",
    "            if type(M.slice_obstruction_HKL(spec, verbose=False))==type((1,2)):\n",
    "                k[1]=1 #since the topological sliceness is obstructed\n",
    "                print('worked')\n",
    "        except:\n",
    "            print('something wrong with HKL')\n"
   ]
  },
  {
   "cell_type": "code",
   "execution_count": 109,
   "metadata": {},
   "outputs": [],
   "source": [
    "lower_bounds_top_dict=dict(lower_bounds_top) "
   ]
  },
  {
   "cell_type": "markdown",
   "metadata": {},
   "source": [
    "Lets use the obvious inequalities of the slice genera to update the lower slice genus bounds:"
   ]
  },
  {
   "cell_type": "code",
   "execution_count": null,
   "metadata": {},
   "outputs": [],
   "source": [
    "for k in lower_bounds_slice:\n",
    "    top_bound=lower_bounds_top_dict[k[0]]\n",
    "    if k[1]<top_bound:\n",
    "        k[1]=top_bound"
   ]
  },
  {
   "cell_type": "code",
   "execution_count": 124,
   "metadata": {},
   "outputs": [],
   "source": [
    "lower_bounds_slice_dict=dict(lower_bounds_slice)"
   ]
  },
  {
   "cell_type": "markdown",
   "metadata": {},
   "source": [
    "Let's now combine the lower bounds with the upper bounds to get the final bounds of all census knots:"
   ]
  },
  {
   "cell_type": "code",
   "execution_count": 126,
   "metadata": {},
   "outputs": [],
   "source": [
    "upper_bounds=[]\n",
    "with open('/Users/leomousseau/Desktop/Bachelor code census/upper_bounds_census_final.csv','r') as inp:\n",
    "    reader=csv.reader(inp)\n",
    "    for row in reader:\n",
    "        upper_bounds.append(row)\n",
    "for k in upper_bounds:\n",
    "    k[1]=eval(k[1])"
   ]
  },
  {
   "cell_type": "code",
   "execution_count": 138,
   "metadata": {},
   "outputs": [],
   "source": [
    "final_bounds=[]\n",
    "for k in upper_bounds:\n",
    "    lower_slice=lower_bounds_slice_dict[k[0]]\n",
    "    if lower_slice==int(lower_slice):\n",
    "        lower_slice=int(lower_slice)\n",
    "    \n",
    "    lower_top=lower_bounds_top_dict[k[0]]\n",
    "    upper_slice=k[1][0]\n",
    "    upper_top=k[1][1]\n",
    "    if lower_slice>upper_slice:\n",
    "        print('error 1',k)\n",
    "    if lower_top>upper_top:\n",
    "        print('error 2',k)\n",
    "    if lower_top>upper_slice:\n",
    "        print('error 3')\n",
    "    \n",
    "    final_bounds.append([k[0],(lower_slice,upper_slice),(lower_top,upper_top)])\n",
    "for k in final_bounds:\n",
    "    t1=k[1]\n",
    "    t2=k[2]\n",
    "    if t1[0]==t1[1]:\n",
    "        k[1]=t1[0]\n",
    "    if t2[0]==t2[1]:\n",
    "        k[2]=t2[0]"
   ]
  },
  {
   "cell_type": "code",
   "execution_count": 146,
   "metadata": {},
   "outputs": [],
   "source": [
    "with open('final_slice_genera_bounds_census_knots.csv','w') as out:\n",
    "    writer=csv.writer(out)\n",
    "    for row in final_bounds:\n",
    "        writer.writerow(row)"
   ]
  }
 ],
 "metadata": {
  "kernelspec": {
   "display_name": "SageMath 9.4",
   "language": "sage",
   "name": "sagemath-9.4"
  },
  "language_info": {
   "codemirror_mode": {
    "name": "ipython",
    "version": 3
   },
   "file_extension": ".py",
   "mimetype": "text/x-python",
   "name": "python",
   "nbconvert_exporter": "python",
   "pygments_lexer": "ipython3",
   "version": "3.9.5"
  }
 },
 "nbformat": 4,
 "nbformat_minor": 4
}
